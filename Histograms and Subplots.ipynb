{
 "cells": [
  {
   "cell_type": "code",
   "execution_count": 1,
   "id": "regulation-convenience",
   "metadata": {},
   "outputs": [],
   "source": [
    "%matplotlib inline\n",
    "import matplotlib.pyplot as plt\n",
    "import pandas as pd\n",
    "import numpy as np"
   ]
  },
  {
   "cell_type": "markdown",
   "id": "modified-sector",
   "metadata": {},
   "source": [
    "# Histograms"
   ]
  },
  {
   "cell_type": "markdown",
   "id": "pacific-offense",
   "metadata": {},
   "source": [
    "Make some data and plot it"
   ]
  },
  {
   "cell_type": "code",
   "execution_count": 24,
   "id": "combined-pottery",
   "metadata": {},
   "outputs": [
    {
     "data": {
      "text/plain": [
       "array([-2.91005466e-02, -9.03373147e-01,  1.05095357e+00,  1.69960025e+00,\n",
       "        9.44427801e-02, -8.70332899e-01,  1.70644321e-01,  4.12114489e-01,\n",
       "       -2.80888104e-01,  1.17237186e-01,  2.03123990e+00,  4.69175514e-01,\n",
       "        4.44131513e-01,  9.17116478e-01, -1.83818893e-01, -1.53441590e-01,\n",
       "        6.45106479e-01,  3.41444036e-01, -7.94122655e-01,  1.49157656e-01,\n",
       "       -7.59994065e-01,  9.43289704e-01, -6.02652431e-01, -3.51681353e-01,\n",
       "       -5.63657131e-02, -7.64842717e-01, -1.11756031e+00,  9.62777718e-01,\n",
       "       -2.07419272e+00,  1.93264242e+00, -6.64586657e-01, -1.22056827e+00,\n",
       "       -1.08468922e+00, -1.67962977e-01, -1.37311558e+00, -9.52947777e-02,\n",
       "        1.93395110e-01,  1.98114438e-01,  3.50117404e-01,  3.07481705e-02,\n",
       "        2.69783028e+00,  1.43224601e+00,  7.95433384e-01,  1.59080891e+00,\n",
       "        1.63024563e+00, -8.85802566e-01, -1.95408820e-02, -1.54711164e+00,\n",
       "        1.26952070e+00, -7.92148311e-01, -1.45923123e+00, -2.97394472e-01,\n",
       "       -6.44802809e-01,  1.13081948e+00, -3.15558937e-01,  1.08494173e+00,\n",
       "        9.21345050e-01,  1.09139561e+00,  1.18515465e+00,  9.23892204e-01,\n",
       "        1.19507042e+00,  2.25854412e-02, -6.14925137e-01, -1.55353232e+00,\n",
       "        1.22863890e+00, -6.79518920e-01,  4.46411289e-01, -4.63359789e-01,\n",
       "       -1.00338043e+00, -3.37933018e+00,  8.11307479e-01, -8.58526867e-01,\n",
       "       -8.13660020e-01,  1.76333599e+00,  7.16293199e-01,  2.48433155e+00,\n",
       "        1.33414236e+00,  2.02850183e-01, -2.88996002e-01,  1.19879236e+00,\n",
       "        2.74023319e-01,  9.92284777e-01, -2.14447873e-01,  1.58615946e+00,\n",
       "        1.60948924e+00,  5.67010412e-01, -5.52111870e-01, -1.97454436e+00,\n",
       "        8.86330400e-01,  1.19289692e+00, -2.22299014e-01, -4.01728571e-01,\n",
       "       -2.76757227e-01, -5.57445583e-01,  1.36075153e+00,  3.16223583e-01,\n",
       "       -6.13223606e-01, -1.68956927e+00, -6.43819939e-01,  2.80256308e+00,\n",
       "        1.31132988e+00, -5.24060207e-01,  5.00820802e-01, -3.32632946e-01,\n",
       "        6.56061644e-01, -1.04532583e+00,  7.01308028e-01,  1.56055471e+00,\n",
       "        8.97593237e-01,  5.14728887e-01,  4.38284372e-01, -1.98560937e-01,\n",
       "        8.94126709e-01, -3.60854654e-01,  1.96053079e+00, -1.06551972e+00,\n",
       "        6.49710997e-01, -1.26029614e+00,  2.57428163e-01, -6.46044615e-01,\n",
       "        9.14685944e-01, -1.45234339e-01, -5.72217939e-03, -9.44139959e-01,\n",
       "       -5.55544618e-01,  1.18335374e+00, -5.05806141e-02, -7.00820347e-01,\n",
       "       -9.41791000e-01,  1.13488464e+00, -9.19236788e-01, -5.21935978e-01,\n",
       "       -7.54576145e-01, -2.24158811e+00, -2.76943902e-01, -7.84366035e-01,\n",
       "        1.07504162e+00,  7.10628624e-01, -1.83511498e+00, -2.49834125e-01,\n",
       "        1.67117468e+00,  1.05381371e+00,  7.11622163e-03,  4.31587751e-02,\n",
       "       -5.00527982e-01,  2.23335756e+00,  1.37348763e+00, -3.40131966e-01,\n",
       "        6.27766360e-02, -8.34054469e-01, -1.21415960e+00, -1.70437139e+00,\n",
       "       -6.77438635e-01, -1.02834178e+00,  5.53213023e-01, -4.37911786e-01,\n",
       "        6.92788163e-01, -9.85855511e-01, -2.28847166e-01, -5.27289328e-01,\n",
       "       -7.18628732e-01, -6.30950004e-01,  8.89066645e-01, -1.10064279e-01,\n",
       "       -1.79453217e+00, -1.15118543e+00,  7.91982411e-01,  9.14699720e-01,\n",
       "       -1.38323212e-01,  1.09533185e+00, -8.11694531e-02,  1.21553430e+00,\n",
       "       -3.19339083e-01, -6.25382336e-02, -1.22150656e-01, -5.52455967e-01,\n",
       "        5.32495657e-01, -9.35273677e-02,  4.80624596e-01, -1.03291615e+00,\n",
       "       -4.80761882e-01, -1.54399540e-01,  1.58561457e+00,  7.46378849e-01,\n",
       "       -3.64498722e-01,  1.59090671e-01, -2.20824570e+00,  6.69921485e-01,\n",
       "        4.27462950e-01, -2.30770511e-02, -2.03415772e+00, -2.14712244e+00,\n",
       "        6.09174127e-01,  1.04372417e+00,  1.67509240e-01,  6.79712954e-01,\n",
       "       -5.13039338e-01,  1.18913886e+00, -1.36715167e+00,  8.68950928e-01,\n",
       "       -1.69636793e+00, -1.63183233e-01, -8.61042514e-01, -2.46585563e+00,\n",
       "       -1.93410686e-01,  2.05697469e+00,  8.55108342e-01, -4.54178395e-01,\n",
       "        7.10017006e-01,  1.42716718e+00, -6.25881675e-01,  1.34894248e+00,\n",
       "       -3.63179804e-01,  5.13728088e-01,  4.32355002e-01,  1.24525933e+00,\n",
       "       -2.68236099e-01,  1.81668360e+00,  1.07937244e+00, -1.79104389e+00,\n",
       "       -3.47845874e-01, -1.49117590e+00,  1.30266630e+00,  1.68524694e+00,\n",
       "       -2.07816271e-01, -9.81265890e-02,  1.67368958e-01,  2.87122362e-01,\n",
       "        5.53738603e-01,  2.59407402e-01,  1.20722829e-01,  7.44297440e-01,\n",
       "       -1.36138629e+00, -8.55507276e-01,  1.01088326e+00, -1.09218292e+00,\n",
       "        8.13335288e-01, -2.35431321e-01,  1.20315314e-01,  1.33598518e-01,\n",
       "        4.76658727e-02, -8.89737081e-02,  1.08171790e+00,  1.89081219e+00,\n",
       "       -4.39111601e-01, -7.25385369e-01, -2.16597970e+00, -1.33981596e+00,\n",
       "        3.46861339e-01, -7.29543490e-01, -4.42036553e-01, -1.65135406e+00,\n",
       "       -1.74525595e+00, -1.11181040e+00,  1.29488649e+00, -2.60582577e-01,\n",
       "       -1.70456920e-01,  2.51642764e-01,  5.74196046e-01,  1.24691536e+00,\n",
       "       -1.48850161e+00,  1.50653873e+00, -8.27204011e-01, -7.41937484e-01,\n",
       "       -9.28105880e-01, -1.33995459e-01, -1.48295691e+00, -1.69722535e-01,\n",
       "        1.48713774e-01, -4.16774789e-01, -8.10231595e-01, -5.49746656e-01,\n",
       "       -1.60657743e+00,  1.63664623e+00,  3.81495811e-03, -1.30778204e+00,\n",
       "       -3.64329293e-01,  1.19692088e+00, -4.62009626e-02,  4.17353511e-01,\n",
       "        1.31537821e+00,  1.37044687e+00,  1.30031074e-01,  1.98180121e+00,\n",
       "        8.11492885e-01, -8.18040759e-01,  2.40424275e-02, -9.92567168e-01,\n",
       "        2.62099649e-01, -1.32044726e-01, -9.77247562e-01, -7.21252666e-02,\n",
       "       -4.37040712e-01, -1.43297525e-01,  3.01592808e-01, -4.04167679e-01,\n",
       "       -1.93288605e-01,  4.48745661e-01,  2.39563590e-01, -1.53755234e+00,\n",
       "       -5.74256459e-01, -2.41987102e-01, -3.08594603e-01, -1.15386404e+00,\n",
       "       -9.61660542e-01, -2.23798628e-03,  6.63217759e-01,  2.53475711e-01,\n",
       "        9.16633345e-01,  4.84784953e-01, -1.05129110e+00, -8.74056128e-01,\n",
       "       -3.90221054e-01,  2.29114614e+00, -5.87513328e-02,  6.66882452e-01,\n",
       "       -1.60103161e-01, -1.67348095e+00, -1.60720296e+00, -7.70469445e-01,\n",
       "       -1.88819073e-01,  3.23823582e-01,  1.73756179e+00, -5.17644318e-02,\n",
       "        8.53203445e-01, -4.60525359e-01, -9.95857593e-01, -4.53436273e-01,\n",
       "        4.84233089e-01,  1.58309359e+00, -5.16229701e-01,  1.18668231e+00,\n",
       "        9.32238654e-02, -3.68812900e-01,  1.74493627e+00, -9.11490827e-01,\n",
       "       -9.48808972e-01, -1.25408508e+00,  5.40071104e-01,  8.25613047e-01,\n",
       "        7.66433934e-01, -1.76598176e+00, -8.40810989e-01,  8.75099955e-01,\n",
       "        8.99068969e-02,  1.51926845e-01,  1.94278492e+00, -5.05090161e-01,\n",
       "        1.03254934e+00, -1.16678003e-01,  2.72484664e+00, -9.20926130e-01,\n",
       "       -7.56104980e-01,  3.10650274e-01, -7.66193567e-01, -6.09225196e-01,\n",
       "       -1.33292223e+00,  1.42989046e+00,  3.09852954e-01, -6.53205252e-01,\n",
       "       -5.63628267e-01, -6.21436746e-01, -1.64477152e-01, -4.38352789e-01,\n",
       "        5.95456870e-01,  2.01838164e-01, -9.14098067e-01,  3.68877506e-01,\n",
       "       -3.85872957e-01,  3.62701964e-01, -1.56526877e+00, -6.26675356e-01,\n",
       "        3.56916604e-01, -1.28566431e+00,  6.38404934e-01,  7.51463280e-01,\n",
       "        1.75334983e+00,  9.85222564e-01, -1.85281035e-01,  2.31992037e+00,\n",
       "        2.43338265e+00, -1.15433860e+00, -3.40413169e+00,  5.55727238e-01,\n",
       "        1.71739458e+00,  1.24865741e+00, -8.35577159e-01, -6.53438109e-01,\n",
       "       -1.53357904e+00,  1.55846586e+00,  2.31843280e-01,  7.83431396e-01,\n",
       "       -1.70919220e+00,  2.05601720e+00,  4.80648713e-01,  1.52774344e+00,\n",
       "        2.81409342e-01, -2.31315829e-01, -2.02862402e+00,  1.93777105e+00,\n",
       "       -2.09838239e+00, -3.19090792e-02,  1.43115245e+00,  1.61745672e+00,\n",
       "       -9.87798327e-01,  2.66640938e+00,  2.08439236e-01, -7.81731470e-01,\n",
       "        6.37640374e-01, -1.85802611e+00,  9.85168701e-01, -1.97574392e-01,\n",
       "        3.51727194e-01,  6.97189128e-01, -1.92270067e-01,  1.34639360e+00,\n",
       "        1.91965685e+00, -2.28158650e+00,  1.72222973e-01, -5.28921383e-01,\n",
       "       -1.04228098e+00, -9.49359451e-01,  7.20448064e-01,  1.68368880e-01,\n",
       "        2.13164770e-01,  1.92887601e+00, -7.96077291e-01, -2.23424482e-01,\n",
       "        1.80851593e-01,  2.29637857e+00, -4.93878852e-01,  1.65714147e+00,\n",
       "       -5.08488109e-01,  1.12957130e+00, -1.46839468e+00, -1.30269783e-01,\n",
       "       -1.11387175e+00, -2.12174689e-01, -3.40182518e-01, -4.60878365e-01,\n",
       "        1.29274023e+00, -6.88182412e-02,  4.09923459e-01, -1.93775787e+00,\n",
       "       -1.44366952e+00,  1.52263284e-01, -4.87707396e-01,  3.44693556e-01,\n",
       "       -8.73721589e-01,  1.74602675e+00,  7.62940989e-01,  9.36889155e-01,\n",
       "       -9.51002967e-01,  6.27878237e-01,  2.32636763e-01,  5.80929634e-01,\n",
       "       -3.41401477e-01, -2.78141866e-02, -4.29697077e-01,  4.97095172e-01,\n",
       "        5.95137337e-01,  1.67989299e+00,  1.74575241e+00, -1.96256396e+00,\n",
       "        1.48957962e+00, -1.55701829e+00,  8.42156329e-01,  5.72144285e-01,\n",
       "       -6.86178621e-01, -1.83919763e-01, -8.29489202e-01, -1.67522343e-01,\n",
       "        1.01475662e+00,  1.41831401e-01, -1.89537075e+00,  4.00300005e-01,\n",
       "       -1.06692505e+00,  6.72993541e-01, -1.93289034e-01,  2.67312056e+00,\n",
       "       -1.08404577e-01,  1.24898854e+00,  4.60324282e-02,  9.66710655e-01,\n",
       "        5.94986178e-01,  9.46167425e-01,  1.85068742e+00,  9.48910409e-01,\n",
       "        8.04064118e-01,  1.24813158e-01,  1.12751354e+00,  4.61525828e-01,\n",
       "        1.36543850e+00, -4.37600559e-01, -7.53962739e-01, -6.61221963e-01,\n",
       "        9.88052804e-01, -1.46419591e-01, -9.78094475e-01,  2.02419370e+00,\n",
       "        2.24016915e+00, -3.91298970e-01,  4.04395449e-03, -2.07957066e+00,\n",
       "       -6.02382533e-01, -4.27571872e-01, -3.80144844e-01, -3.62617115e-02,\n",
       "        7.17640991e-01,  1.70424196e-01,  7.10704561e-01, -3.30216955e-01,\n",
       "       -1.16120415e+00, -5.58040104e-01, -7.45091420e-01,  3.82166862e-01,\n",
       "        8.16376703e-01,  4.35351136e-01,  2.74727382e+00, -2.06335950e-01,\n",
       "       -1.49911484e+00, -8.90855047e-01, -8.80279293e-01, -1.51075947e-01,\n",
       "       -2.04058126e+00,  7.45312265e-01, -9.67634062e-01, -3.19206384e-01,\n",
       "       -3.41882881e-01,  3.09282059e-01, -7.13593051e-01, -5.66307144e-01,\n",
       "       -1.16700195e+00, -3.01734226e-03,  1.69906934e+00,  7.89434657e-02,\n",
       "        3.33194797e-01,  7.79885103e-01,  9.99067211e-01,  1.32505021e+00,\n",
       "       -1.49354042e+00, -1.13414860e+00, -3.48220218e-01,  3.89868908e-01,\n",
       "       -1.79754708e-02,  1.04130331e+00,  7.18920533e-01, -2.55546879e-01,\n",
       "       -7.35066990e-01, -2.75460193e-01, -1.67012713e+00,  2.00283150e-01,\n",
       "       -4.95773470e-02, -7.99350192e-01, -8.25171857e-01,  1.32273989e+00,\n",
       "       -1.59125524e-01,  7.28174507e-02, -5.78314395e-01, -6.59692372e-01,\n",
       "       -7.32323499e-01, -2.05744410e-01,  1.80867282e-01, -1.16428492e+00,\n",
       "        7.68380740e-01, -1.17647422e-01, -2.43325536e-01,  2.35317585e+00,\n",
       "       -1.23671312e-01,  1.09240416e-01, -8.87171381e-01,  9.34955098e-01,\n",
       "       -4.91239744e-01,  2.57917075e+00,  1.10262165e+00,  6.61524075e-01,\n",
       "       -2.84052550e-01, -3.84450002e-01, -5.66129487e-01, -4.67596397e-03,\n",
       "       -1.56088920e-01,  1.23657135e+00,  9.74214949e-02, -2.72494027e-01,\n",
       "       -1.90811400e+00, -1.80059292e+00, -7.52974951e-02, -8.22493372e-01,\n",
       "        6.69201425e-01,  9.81084122e-01, -7.08157500e-01,  3.11628413e-01,\n",
       "        2.71846516e-02,  6.16347986e-01, -7.79029453e-01,  1.06321447e+00,\n",
       "       -1.01992478e+00, -1.68848227e+00, -3.14371153e-01, -2.16734160e-01,\n",
       "        1.16358722e+00, -6.88273140e-01, -9.57400536e-01,  2.16469531e-01,\n",
       "       -1.65881429e+00,  3.19305680e-01, -1.83278608e-02,  1.80984550e+00,\n",
       "       -3.63346447e-01, -3.23724692e-01, -6.31603145e-01, -5.29764455e-01,\n",
       "        9.03986557e-01,  9.01712475e-02,  7.52122777e-01,  9.99284445e-01,\n",
       "       -1.02681398e+00,  1.95095802e+00, -1.28763277e-01,  1.25043697e+00,\n",
       "       -8.43604364e-01, -1.85356014e+00,  5.52746379e-01,  1.05535314e+00,\n",
       "       -1.31363167e+00, -1.17620479e+00,  5.34018588e-01, -1.24994638e+00,\n",
       "        2.05918004e-03,  6.44885483e-01, -2.03482668e-01,  1.32053829e+00,\n",
       "       -6.94374823e-01, -4.81061129e-02, -7.41572272e-01,  9.42015756e-02,\n",
       "       -2.21929836e-01,  3.72906406e-02, -1.25486599e-01,  9.72509668e-01,\n",
       "        4.29451226e-01, -1.30504967e+00, -1.15078307e+00,  4.76624052e-01,\n",
       "       -3.59760083e-02,  2.74334461e-01,  1.12079392e+00, -8.38304329e-01,\n",
       "       -1.33953574e+00, -1.06448405e+00, -6.57784086e-01,  9.25327570e-04,\n",
       "       -1.77236880e+00,  9.63442156e-01, -8.36251336e-01,  2.82525372e-01,\n",
       "       -2.82125814e-01,  1.62570219e+00,  8.92638567e-01, -4.53453960e-01,\n",
       "       -1.13284735e+00,  4.52628358e-01, -4.66299839e-01, -1.28478053e+00,\n",
       "       -6.46392327e-01,  1.54733657e+00,  3.23801398e-01, -7.81169554e-01,\n",
       "        9.33325153e-01, -8.95616031e-01, -1.18479876e-01,  3.58298209e-01,\n",
       "       -1.36061417e+00, -1.41497118e+00, -7.76933080e-02, -2.08848234e+00,\n",
       "        9.53326157e-01,  3.75664402e-03,  3.04103382e-01,  4.94343166e-02,\n",
       "        2.43000965e+00,  7.08374113e-02,  2.11319604e-01, -1.27790204e+00,\n",
       "        8.48706233e-01, -1.50861990e+00, -1.05905392e+00, -6.68273275e-01,\n",
       "       -8.31092660e-01, -3.12039923e+00, -3.25363860e-01,  1.84423611e+00,\n",
       "        4.77544481e-01,  8.81734532e-01, -1.98180077e-01, -1.06633794e+00,\n",
       "       -7.29426493e-01, -3.57979100e-01, -2.60990569e-01,  9.22551209e-01,\n",
       "       -1.53923913e-01,  4.75822615e-01,  8.55181422e-01, -1.28853725e+00,\n",
       "        7.76615044e-01, -2.01881152e+00, -1.62878241e-01, -2.53317274e-02,\n",
       "        6.43474764e-01,  1.93485860e+00, -3.06572926e-01, -9.94776526e-01,\n",
       "        7.70411964e-01, -1.05048456e+00, -5.55256042e-01, -8.97583657e-01,\n",
       "        2.74684310e-01, -1.05661515e+00, -1.60972625e-01,  8.88197597e-01,\n",
       "       -1.79960620e-01,  1.57183604e-01, -4.29637486e-01,  9.29822790e-01,\n",
       "        7.00001743e-01, -1.05244748e+00,  7.28108779e-01,  1.45190431e+00,\n",
       "        1.22753422e+00, -4.60252665e-03,  1.38530143e+00, -1.43501907e+00,\n",
       "        5.48547537e-01,  3.65609580e-01,  2.04290918e+00,  8.08217162e-02,\n",
       "       -1.90000865e-02,  3.77230373e-01,  1.31589308e+00,  6.13704872e-01,\n",
       "       -1.01419491e+00, -1.06882716e+00,  4.45536402e-01, -1.13982404e+00,\n",
       "       -1.50004045e+00,  1.53833713e+00, -6.57375492e-01,  2.30792256e-02,\n",
       "       -4.86973282e-02, -8.69787457e-01, -1.24569320e+00,  1.03784690e+00,\n",
       "        6.07310936e-01, -1.33924326e+00, -3.07100244e-02,  1.36354577e+00,\n",
       "        3.96291233e-01,  4.51490850e-01, -1.44188540e+00, -8.30475574e-01,\n",
       "       -4.85267676e-01, -4.05382222e-01,  1.03989673e+00, -2.98914782e-01,\n",
       "        2.84672864e-01, -6.38142092e-01,  1.53742760e+00,  9.18806191e-01,\n",
       "       -1.19357546e+00, -6.60830447e-01,  1.25651668e+00, -1.04182774e+00,\n",
       "        1.50482849e-02,  1.89020809e-01,  1.27488018e+00, -1.10201309e+00,\n",
       "        3.81287530e-01, -5.54686434e-01, -7.95582035e-01,  2.06567880e+00,\n",
       "       -5.26709565e-01, -4.95448477e-01, -2.20821634e-01, -1.36945645e+00,\n",
       "        5.71447140e-01,  4.64907540e-01, -2.99575767e-01,  8.24934995e-01,\n",
       "       -2.13924986e+00,  1.68350926e+00,  5.27082710e-01, -6.22902939e-01,\n",
       "        3.47892342e-01,  2.47231900e+00,  5.84314481e-01, -4.63242485e-01,\n",
       "       -6.06687932e-01,  1.91504577e+00,  1.00475337e+00, -5.47858350e-01,\n",
       "        3.99118279e-01, -3.39776058e-01, -2.16452090e+00,  1.51473931e+00,\n",
       "       -1.01446870e+00, -1.08335322e+00,  5.58177470e-02,  4.53460901e-01,\n",
       "       -1.87834581e-01,  6.35194133e-01, -4.10187428e-01,  1.42884983e+00,\n",
       "       -3.04761426e-02, -4.54561944e-01, -1.49872225e+00, -1.92418148e+00,\n",
       "       -3.69013406e-01,  1.15601580e-02,  8.36663029e-01, -1.01367226e+00,\n",
       "        2.53012702e-01,  4.79420644e-01, -1.31915154e+00, -1.20096260e+00,\n",
       "        2.52468666e-01, -8.73852004e-01,  2.98847347e-01, -8.66521725e-01,\n",
       "        2.29635479e-01,  4.87492954e-01,  1.34986210e+00,  1.62939580e-01,\n",
       "        3.80198163e-01, -3.73779426e-01,  5.33792336e-01, -8.76453011e-01,\n",
       "       -8.73226505e-02, -1.98973271e+00,  3.27774602e-01,  2.89333632e-01,\n",
       "        5.61846697e-01,  6.91041946e-01,  4.70300541e-01,  1.17297383e+00,\n",
       "        2.99466858e-01, -2.59719740e-01,  9.55625963e-01,  5.28132540e-01,\n",
       "        3.19902343e-02,  1.40303772e+00, -8.91010741e-01, -1.15627619e-01,\n",
       "        6.32605620e-01, -2.86504059e-01, -9.28197401e-01, -2.01852580e-01,\n",
       "        6.15921550e-02,  1.67895992e+00,  4.48458636e-01, -8.78544523e-01,\n",
       "       -1.53395409e-01,  1.24706086e+00, -1.04804008e-01,  4.78322707e-01,\n",
       "        2.41203107e-01,  1.13258752e+00, -5.05144523e-01, -6.09970909e-01,\n",
       "       -5.86571388e-01, -3.58652417e-01,  5.29198772e-01, -6.92500415e-01,\n",
       "       -3.52492172e-02, -1.64090982e-01,  1.24560638e+00, -5.49231986e-01,\n",
       "        6.04278813e-01,  5.74111897e-01, -2.92633254e-01, -4.86121014e-01,\n",
       "       -1.25966865e+00,  1.68075435e+00, -4.51362652e-01,  8.54444723e-01,\n",
       "       -1.11308337e+00,  1.66325490e-01, -4.48092551e-01,  9.58455984e-01,\n",
       "       -4.01203010e-01,  2.96637759e-02, -3.80899128e-01,  3.51334851e-01,\n",
       "       -9.29472095e-01, -3.83764603e-01, -1.14768226e-01,  1.55989380e+00,\n",
       "       -1.90675410e-01,  2.59867243e-01, -4.40293790e-01, -6.39843483e-02,\n",
       "        6.06019760e-01, -5.41679727e-01,  1.22450799e+00,  1.82798959e+00,\n",
       "        1.84949234e+00,  3.31185180e-01, -1.97625502e+00,  5.73969366e-01,\n",
       "       -1.15552306e+00, -4.32902976e-01, -1.11659836e+00, -4.46929070e-02,\n",
       "        6.29902517e-01, -7.51976354e-01, -8.33570207e-01, -5.46436931e-01,\n",
       "        1.14355824e+00, -4.74641191e-01,  7.27316292e-01,  2.01179853e+00,\n",
       "        9.68766813e-01, -1.04511796e-01, -3.43583695e-01, -8.93388158e-01,\n",
       "       -5.52274588e-01,  8.54758146e-01,  6.18793864e-01, -9.15595831e-01,\n",
       "       -9.51520681e-01, -1.36945473e+00, -4.18352065e-01, -4.60644756e-02,\n",
       "        2.26981433e-01, -6.73557207e-01, -1.38150591e+00, -9.21997393e-01,\n",
       "        4.49664019e-01,  1.37080077e+00, -4.25564116e-01,  1.97891923e+00,\n",
       "        1.54691172e+00,  5.08733928e-01, -1.01645800e-01, -1.02413357e+00,\n",
       "        1.66701405e+00, -3.55999830e-01,  7.76644477e-01, -7.62736946e-01,\n",
       "       -9.82688274e-01, -5.73884684e-01, -3.18201358e-01,  8.98031286e-01,\n",
       "        3.57733107e-01, -1.52179096e+00,  3.70440476e-01, -5.22781864e-01,\n",
       "        1.31619260e+00,  4.21064225e-01, -8.68958369e-01, -1.86982833e+00,\n",
       "       -1.14230553e+00, -1.32211455e-01, -6.92103793e-01,  6.95245662e-01,\n",
       "        5.80784861e-01, -7.56120126e-01, -1.50089780e+00, -9.24532189e-01,\n",
       "       -9.86496280e-02, -1.93645707e-01, -9.28968769e-01, -1.37844385e+00,\n",
       "       -9.67665758e-02,  1.02986541e+00,  9.48114676e-02, -1.09587783e+00,\n",
       "       -1.31852072e-01,  8.98432246e-02,  4.62407908e-01, -1.52737063e+00,\n",
       "       -1.07557179e+00, -9.46903033e-01,  1.63830394e+00,  4.54952732e-01,\n",
       "        1.55357371e+00, -7.14881275e-02, -1.28842373e+00, -6.15906394e-01,\n",
       "       -1.64833260e-01,  2.89798557e+00, -5.56742078e-01,  7.38630055e-01,\n",
       "       -3.89579858e-01, -1.04380161e+00, -1.51094281e+00, -1.07707608e+00,\n",
       "        6.46415146e-01, -3.45593777e-01, -3.35225694e-03, -8.19328114e-02])"
      ]
     },
     "execution_count": 24,
     "metadata": {},
     "output_type": "execute_result"
    }
   ],
   "source": [
    "car_prices = {'Tesla': 10000,\n",
    "              'Honda': 7000,\n",
    "              'Mercedes': 8000,}\n",
    "\n",
    "x = np.random.randn(1000)\n",
    "x"
   ]
  },
  {
   "cell_type": "code",
   "execution_count": 3,
   "id": "cleared-cursor",
   "metadata": {},
   "outputs": [
    {
     "data": {
      "text/plain": [
       "array([-0.62328381,  0.0524703 ,  0.25995063, -0.46248414, -1.16434993])"
      ]
     },
     "execution_count": 3,
     "metadata": {},
     "output_type": "execute_result"
    }
   ],
   "source": [
    "x[:5]"
   ]
  },
  {
   "cell_type": "code",
   "execution_count": 4,
   "id": "engaged-ballot",
   "metadata": {},
   "outputs": [
    {
     "data": {
      "text/plain": [
       "(1000,)"
      ]
     },
     "execution_count": 4,
     "metadata": {},
     "output_type": "execute_result"
    }
   ],
   "source": [
    "x.shape"
   ]
  },
  {
   "cell_type": "code",
   "execution_count": 5,
   "id": "exact-destiny",
   "metadata": {},
   "outputs": [
    {
     "data": {
      "text/plain": [
       "1000"
      ]
     },
     "execution_count": 5,
     "metadata": {},
     "output_type": "execute_result"
    }
   ],
   "source": [
    "x.size"
   ]
  },
  {
   "cell_type": "code",
   "execution_count": 6,
   "id": "romantic-supervision",
   "metadata": {},
   "outputs": [
    {
     "data": {
      "text/plain": [
       "1"
      ]
     },
     "execution_count": 6,
     "metadata": {},
     "output_type": "execute_result"
    }
   ],
   "source": [
    "x.ndim"
   ]
  },
  {
   "cell_type": "code",
   "execution_count": 8,
   "id": "iraqi-disease",
   "metadata": {},
   "outputs": [
    {
     "data": {
      "image/png": "[encoded data removed]",
      "text/plain": [
       "<Figure size 432x288 with 1 Axes>"
      ]
     },
     "metadata": {
      "needs_background": "light"
     },
     "output_type": "display_data"
    }
   ],
   "source": [
    "fig, ax = plt.subplots()\n",
    "ax.hist(x);"
   ]
  },
  {
   "cell_type": "markdown",
   "id": "relevant-strategy",
   "metadata": {},
   "source": [
    "Two options for Subplots"
   ]
  },
  {
   "cell_type": "code",
   "execution_count": 9,
   "id": "nonprofit-bible",
   "metadata": {},
   "outputs": [
    {
     "data": {
      "image/png": "[encoded data removed]",
      "text/plain": [
       "<Figure size 720x360 with 4 Axes>"
      ]
     },
     "metadata": {
      "needs_background": "light"
     },
     "output_type": "display_data"
    }
   ],
   "source": [
    "# Subplot option 1\n",
    "\n",
    "fig, ((ax1, ax2), (ax3, ax4)) = plt.subplots(nrows=2,\n",
    "                                             ncols=2,\n",
    "                                             figsize=(10, 5));"
   ]
  },
  {
   "cell_type": "code",
   "execution_count": 12,
   "id": "serious-moment",
   "metadata": {},
   "outputs": [
    {
     "data": {
      "image/png": "[encoded data removed]",
      "text/plain": [
       "<Figure size 720x360 with 4 Axes>"
      ]
     },
     "metadata": {
      "needs_background": "light"
     },
     "output_type": "display_data"
    }
   ],
   "source": [
    "# Plot to each different axis\n",
    "\n",
    "fig, ((ax1, ax2), (ax3, ax4)) = plt.subplots(nrows=2,\n",
    "                                             ncols=2,\n",
    "                                             figsize=(10, 5))\n",
    "\n",
    "ax1.plot(x, x/2);"
   ]
  },
  {
   "cell_type": "code",
   "execution_count": 17,
   "id": "central-coating",
   "metadata": {},
   "outputs": [
    {
     "data": {
      "image/png": "[encoded data removed]",
      "text/plain": [
       "<Figure size 720x360 with 4 Axes>"
      ]
     },
     "metadata": {
      "needs_background": "light"
     },
     "output_type": "display_data"
    }
   ],
   "source": [
    "# Plot to each different axis\n",
    "\n",
    "fig, ((ax1, ax2), (ax3, ax4)) = plt.subplots(nrows=2,\n",
    "                                             ncols=2,\n",
    "                                             figsize=(10, 5))\n",
    "\n",
    "ax1.plot(x, x/2)\n",
    "ax2.scatter(np.random.random(10), np.random.random(10));"
   ]
  },
  {
   "cell_type": "code",
   "execution_count": 25,
   "id": "accomplished-bryan",
   "metadata": {},
   "outputs": [
    {
     "data": {
      "image/png": "[encoded data removed]",
      "text/plain": [
       "<Figure size 720x360 with 4 Axes>"
      ]
     },
     "metadata": {
      "needs_background": "light"
     },
     "output_type": "display_data"
    }
   ],
   "source": [
    "# Plot to each different axis\n",
    "\n",
    "fig, ((ax1, ax2), (ax3, ax4)) = plt.subplots(nrows=2,\n",
    "                                             ncols=2,\n",
    "                                             figsize=(10, 5))\n",
    "\n",
    "ax1.plot(x, x/2)\n",
    "ax2.scatter(np.random.random(10), np.random.random(10))\n",
    "ax3.bar(car_prices.keys(), car_prices.values());"
   ]
  },
  {
   "cell_type": "code",
   "execution_count": 27,
   "id": "automated-album",
   "metadata": {},
   "outputs": [
    {
     "data": {
      "image/png": "[encoded data removed]",
      "text/plain": [
       "<Figure size 720x360 with 4 Axes>"
      ]
     },
     "metadata": {
      "needs_background": "light"
     },
     "output_type": "display_data"
    }
   ],
   "source": [
    "# Plot to each different axis\n",
    "\n",
    "fig, ((ax1, ax2), (ax3, ax4)) = plt.subplots(nrows=2,\n",
    "                                             ncols=2,\n",
    "                                             figsize=(10, 5))\n",
    "\n",
    "ax1.plot(x, x/2)\n",
    "ax2.scatter(np.random.random(10), np.random.random(10))\n",
    "ax3.bar(car_prices.keys(), car_prices.values())\n",
    "ax4.hist(x);"
   ]
  },
  {
   "cell_type": "markdown",
   "id": "harmful-password",
   "metadata": {},
   "source": [
    "# Option 2"
   ]
  },
  {
   "cell_type": "code",
   "execution_count": 30,
   "id": "prescription-england",
   "metadata": {},
   "outputs": [
    {
     "data": {
      "image/png": "[encoded data removed]",
      "text/plain": [
       "<Figure size 720x360 with 4 Axes>"
      ]
     },
     "metadata": {
      "needs_background": "light"
     },
     "output_type": "display_data"
    }
   ],
   "source": [
    "fig, ax = plt.subplots(nrows=2,\n",
    "                       ncols=2,\n",
    "                       figsize=(10, 5))\n",
    "\n",
    "\n",
    "# Plot to each different index\n",
    "\n",
    "ax[0, 0].plot(x, x/2)\n",
    "ax[0, 1].scatter(np.random.random(10), np.random.random(10))\n",
    "ax[1, 0].bar(car_prices.keys(), car_prices.values())\n",
    "ax[1, 1].hist(x);\n"
   ]
  },
  {
   "cell_type": "code",
   "execution_count": null,
   "id": "acknowledged-russell",
   "metadata": {},
   "outputs": [],
   "source": []
  }
 ],
 "metadata": {
  "kernelspec": {
   "display_name": "Python 3",
   "language": "python",
   "name": "python3"
  },
  "language_info": {
   "codemirror_mode": {
    "name": "ipython",
    "version": 3
   },
   "file_extension": ".py",
   "mimetype": "text/x-python",
   "name": "python",
   "nbconvert_exporter": "python",
   "pygments_lexer": "ipython3",
   "version": "3.9.2"
  }
 },
 "nbformat": 4,
 "nbformat_minor": 5
}
